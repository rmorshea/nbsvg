{
 "cells": [
  {
   "cell_type": "code",
   "execution_count": 1,
   "metadata": {
    "collapsed": false
   },
   "outputs": [
    {
     "name": "stderr",
     "output_type": "stream",
     "text": [
      ":0: FutureWarning: IPython widgets are experimental and may change in the future.\n"
     ]
    }
   ],
   "source": [
    "from nbsvg import *"
   ]
  },
  {
   "cell_type": "code",
   "execution_count": 2,
   "metadata": {
    "collapsed": false
   },
   "outputs": [],
   "source": [
    "view = SVG()\n",
    "view.width = 300\n",
    "view.height = 300"
   ]
  },
  {
   "cell_type": "code",
   "execution_count": 3,
   "metadata": {
    "collapsed": false
   },
   "outputs": [],
   "source": [
    "back = view.Circle()\n",
    "back.declare(cx=150, cy=150, r=100, fill='#222', stroke='#221')\n",
    "\n",
    "s_back = view.Circle()\n",
    "s_back.declare(cx=193, cy=107, r=20, fill=\"rgba(100, 100, 120, 0.2)\", stroke='')\n",
    "\n",
    "rim = view.Circle()\n",
    "rim.declare(cx=150, cy=150, r=90, stroke_width=4, stroke=\"rgba(53, 110, 195, 0.75)\")\n",
    "\n",
    "hour_hand = view.Line() # create an hour hand\n",
    "hour_hand.declare(stroke_width=4, stroke=\"rgba(245,255,220,1)\", points=[(150,150),(150,115)])\n",
    "\n",
    "min_hand = view.Line() # create a minute hand\n",
    "min_hand.declare(stroke_width=2, stroke=\"rgba(245,255,220,1)\", points=[(150,150),(150,70)])\n",
    "\n",
    "sec_hand = view.Line() # create a second hand\n",
    "sec_hand.declare(stroke_width=1, stroke=\"rgba(245,255,220,1)\", points=[(193,107),(193,91)])\n",
    "\n",
    "pin = view.Circle()\n",
    "pin.declare(cx=150, cy=150, r=3, fill='gray')"
   ]
  },
  {
   "cell_type": "code",
   "execution_count": 4,
   "metadata": {
    "collapsed": false
   },
   "outputs": [],
   "source": [
    "view.display()"
   ]
  },
  {
   "cell_type": "code",
   "execution_count": 5,
   "metadata": {
    "collapsed": true
   },
   "outputs": [],
   "source": [
    "import time\n",
    "import datetime\n",
    "import threading\n",
    "from threading import Thread"
   ]
  },
  {
   "cell_type": "code",
   "execution_count": 6,
   "metadata": {
    "collapsed": true
   },
   "outputs": [],
   "source": [
    "def run_clock():\n",
    "    while not kill:\n",
    "        raw = datetime.datetime.now()\n",
    "        t = datetime.datetime.time(raw)\n",
    "        hr,mn,sc = (float(abs(t.hour-12)),\n",
    "                    float(t.minute),\n",
    "                    float(t.second))\n",
    "        hour_hand.rotate(hr/12*360,150,150)\n",
    "        min_hand.rotate(mn/60*360,150,150)\n",
    "        sec_hand.rotate(sc/60*360,193,107)\n",
    "        time.sleep(0.2)"
   ]
  },
  {
   "cell_type": "code",
   "execution_count": 7,
   "metadata": {
    "collapsed": false
   },
   "outputs": [],
   "source": [
    "kill = False\n",
    "thread = Thread(target=run_clock)\n",
    "thread.start()"
   ]
  },
  {
   "cell_type": "code",
   "execution_count": 8,
   "metadata": {
    "collapsed": true
   },
   "outputs": [],
   "source": [
    "# run this cell below to kill process"
   ]
  },
  {
   "cell_type": "code",
   "execution_count": null,
   "metadata": {
    "collapsed": true
   },
   "outputs": [],
   "source": [
    "kill = True"
   ]
  }
 ],
 "metadata": {
  "kernelspec": {
   "display_name": "Python 2",
   "language": "python",
   "name": "python2"
  },
  "language_info": {
   "codemirror_mode": {
    "name": "ipython",
    "version": 2
   },
   "file_extension": ".py",
   "mimetype": "text/x-python",
   "name": "python",
   "nbconvert_exporter": "python",
   "pygments_lexer": "ipython2",
   "version": "2.7.8"
  }
 },
 "nbformat": 4,
 "nbformat_minor": 0
}
